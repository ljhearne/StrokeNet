{
 "cells": [
  {
   "cell_type": "code",
   "execution_count": 1,
   "metadata": {},
   "outputs": [],
   "source": [
    "import numpy as np\n",
    "import pandas as pd\n",
    "import matplotlib.pyplot as plt\n",
    "import seaborn as sns\n",
    "import functions as st\n",
    "import os\n",
    "import pickle\n",
    "\n",
    "parcellation = 'Sch240'\n",
    "n_connectomes = '20'\n",
    "behaviour_list = ['APM','NART_IQ','Q1_TotalWords','Q6_TotalCorrect','CoC_abs_rev']\n",
    "#normalise_behav = True\n",
    "#reverse_behav = True\n",
    "regress_size = False\n",
    "CCApermutations = 1000\n",
    "MCA_components = 5\n",
    "CCA_components = 5\n",
    "outdir = '/Users/luke/Documents/Projects/StrokeNet/Docs/Figures/2020/'\n",
    "\n",
    "num_cvs=4\n",
    "cv_iterations=100"
   ]
  },
  {
   "cell_type": "code",
   "execution_count": 2,
   "metadata": {},
   "outputs": [
    {
     "name": "stderr",
     "output_type": "stream",
     "text": [
      "136it [00:06, 21.05it/s]\n",
      "80it [00:14,  5.42it/s]\n"
     ]
    }
   ],
   "source": [
    "behav_df, CM, NIFTI = st.load_data(parcellation=parcellation,\n",
    "                         n_connectomes=n_connectomes,\n",
    "                         behaviour_list=behaviour_list,\n",
    "                              load_nifti=True)"
   ]
  },
  {
   "cell_type": "markdown",
   "metadata": {},
   "source": [
    "## Prepare data"
   ]
  },
  {
   "cell_type": "code",
   "execution_count": 3,
   "metadata": {},
   "outputs": [
    {
     "name": "stdout",
     "output_type": "stream",
     "text": [
      "Subjects= 80 , nodes= 240 , edges= 28680\n"
     ]
    }
   ],
   "source": [
    "# reshape connectivity data\n",
    "n_subs = np.shape(CM['Diff'])[2]\n",
    "n_nodes = np.shape(CM['Diff'])[0]\n",
    "n_edges = np.int((n_nodes*(n_nodes-1))/2)\n",
    "print('Subjects=',n_subs,', nodes=',n_nodes,', edges=',n_edges)\n",
    "\n",
    "X_full = np.zeros((n_subs,n_edges))\n",
    "index_upper = np.triu_indices(n_nodes, k=1)\n",
    "for subj in range(n_subs):\n",
    "    data = CM['Diff'][:,:,subj].copy()\n",
    "    X_full[subj,:] = data[index_upper].copy()\n",
    "\n",
    "# binarize edges\n",
    "X_full = X_full > 0\n",
    "X = X_full.copy()"
   ]
  },
  {
   "cell_type": "code",
   "execution_count": 4,
   "metadata": {},
   "outputs": [],
   "source": [
    "y = behav_df[behaviour_list].values\n",
    "y = y * -1 "
   ]
  },
  {
   "cell_type": "markdown",
   "metadata": {},
   "source": [
    "## Prediction code"
   ]
  },
  {
   "cell_type": "code",
   "execution_count": 5,
   "metadata": {},
   "outputs": [],
   "source": [
    "from sklearn.model_selection import KFold\n",
    "from sklearn import preprocessing\n",
    "from sklearn.metrics import mean_absolute_error, r2_score\n",
    "from sklearn.cross_decomposition import CCA\n",
    "from scipy.stats import spearmanr\n",
    "from tqdm import tqdm\n",
    "import prince\n",
    "\n",
    "def prediction_function(X,y,num_cvs=5,cv_iterations=2):\n",
    "\n",
    "    # define cross validation scheme\n",
    "    cv = KFold(n_splits=num_cvs,shuffle=True)\n",
    "\n",
    "    #output variables\n",
    "    r_avg = np.zeros((cv_iterations,np.shape(y)[1]))\n",
    "    rs_avg = r_avg.copy()\n",
    "    MAE_avg = r_avg.copy()\n",
    "    Rsqr_avg = r_avg.copy()\n",
    "\n",
    "    for j in tqdm(range(cv_iterations)):\n",
    "\n",
    "        # variables for this iteration\n",
    "        r = np.zeros((num_cvs,np.shape(y)[1]))\n",
    "        rs = r.copy()\n",
    "        MAE = r.copy()\n",
    "        Rsqr = r.copy()\n",
    "\n",
    "        cv_count = 0\n",
    "        for train_index, test_index in cv.split(X):\n",
    "\n",
    "            #organise the data into training and testing sets\n",
    "            X_train = X[train_index,:]\n",
    "            X_test  = X[test_index,:]\n",
    "\n",
    "            y_train = y[train_index,:]\n",
    "            y_test = y[test_index,:]\n",
    "\n",
    "            # trim X to informative features (X train needs to be applicable to X test)\n",
    "            keep_features_train = np.sum(X_train,axis=0)>1\n",
    "            keep_features_test = np.sum(X_test,axis=0)>1\n",
    "            keep_features = np.logical_and(keep_features_test,keep_features_train)\n",
    "            X_train = X_train[:,keep_features]\n",
    "            X_test = X_test[:,np.logical_and(keep_features_test,keep_features_train)]\n",
    "\n",
    "            ## normalise y in train set\n",
    "            scaler = preprocessing.QuantileTransformer(n_quantiles=len(y_train)).fit(y_train)\n",
    "            y_train_scaled = scaler.transform(y_train)\n",
    "\n",
    "            # and apply normalization to test set\n",
    "            y_test_scaled = scaler.transform(y_test)\n",
    "\n",
    "            ## perform MCA on x in train set\n",
    "            mca = prince.MCA(n_components=MCA_components).fit(X_train)\n",
    "            X_train_mca = mca.transform(X_train).values\n",
    "\n",
    "            # and apply MCA to test set\n",
    "            X_test_mca = mca.transform(X_test).values\n",
    "\n",
    "            # do cca\n",
    "            cca = CCA(n_components=1).fit(X_train_mca,y_train_scaled)\n",
    "\n",
    "            # and create prediction of left out y values\n",
    "            y_pred = cca.predict(X_test_mca)\n",
    "\n",
    "            ## compare predictions to real (normalised) data\n",
    "\n",
    "            # save predictions for this cv\n",
    "            for i in range(np.shape(y)[1]):\n",
    "                r[cv_count,i]   = np.corrcoef        (y_test_scaled[:,i],y_pred[:,i])[0,1]\n",
    "                rs[cv_count,i]  = spearmanr          (y_test_scaled[:,i],y_pred[:,i])[0]\n",
    "                MAE[cv_count,i] = mean_absolute_error(y_test_scaled[:,i],y_pred[:,i])\n",
    "                Rsqr[cv_count,i]= r2_score           (y_test_scaled[:,i],y_pred[:,i])\n",
    "            cv_count = cv_count+1 \n",
    "\n",
    "        # average predictions for this iteration\n",
    "        r_avg[j,:] = np.mean(r,axis=0)\n",
    "        rs_avg[j,:] = np.mean(rs,axis=0)\n",
    "        MAE_avg[j,:] = np.mean(MAE,axis=0)\n",
    "        Rsqr_avg[j,:] = np.mean(Rsqr,axis=0)\n",
    "    return r_avg,rs_avg,MAE_avg,Rsqr_avg"
   ]
  },
  {
   "cell_type": "markdown",
   "metadata": {},
   "source": [
    "## Run for connectivity"
   ]
  },
  {
   "cell_type": "code",
   "execution_count": 6,
   "metadata": {},
   "outputs": [
    {
     "name": "stderr",
     "output_type": "stream",
     "text": [
      "100%|██████████| 100/100 [2:28:15<00:00, 88.95s/it] \n"
     ]
    }
   ],
   "source": [
    "r_avg,rs_avg,MAE_avg,Rsqr_avg = prediction_function(X,y,num_cvs=num_cvs,cv_iterations=cv_iterations)"
   ]
  },
  {
   "cell_type": "markdown",
   "metadata": {},
   "source": [
    "## Run for voxels"
   ]
  },
  {
   "cell_type": "code",
   "execution_count": 7,
   "metadata": {},
   "outputs": [
    {
     "name": "stdout",
     "output_type": "stream",
     "text": [
      "Subjects= 80 , voxels= 7221032\n",
      "Features included= 23390\n"
     ]
    }
   ],
   "source": [
    "# which voxels to include when thresholding across participants\n",
    "# ideally '0' but runs quite slow.\n",
    "voxel_lesion_inclusion = 4\n",
    "\n",
    "# reshape data\n",
    "n_subs = np.shape(NIFTI)[3]\n",
    "n_voxels = np.int(np.shape(NIFTI)[0]*np.shape(NIFTI)[1]*np.shape(NIFTI)[2])\n",
    "print('Subjects=',n_subs,', voxels=',n_voxels)\n",
    "\n",
    "X_full = np.zeros((n_subs,n_voxels))\n",
    "for subj in range(n_subs):\n",
    "    data = NIFTI[:,:,:,subj].copy()\n",
    "    data = np.reshape(data,[n_voxels],order='C')\n",
    "    X_full[subj,:] = data.copy()\n",
    "\n",
    "# binarize edges\n",
    "X_full = X_full > 0\n",
    "\n",
    "# remove non informative features\n",
    "keep_features = np.sum(X_full,axis=0)>voxel_lesion_inclusion\n",
    "X = X_full[:,keep_features]\n",
    "print('Features included=',np.sum(keep_features))"
   ]
  },
  {
   "cell_type": "code",
   "execution_count": 8,
   "metadata": {},
   "outputs": [
    {
     "name": "stderr",
     "output_type": "stream",
     "text": [
      "100%|██████████| 100/100 [5:22:59<00:00, 193.79s/it] \n"
     ]
    }
   ],
   "source": [
    "r_avg_vox,rs_avg_vox,MAE_avg_vox,Rsqr_avg_vox = prediction_function(X,y,num_cvs=num_cvs,cv_iterations=cv_iterations)"
   ]
  },
  {
   "cell_type": "markdown",
   "metadata": {},
   "source": [
    "# Plot results"
   ]
  },
  {
   "cell_type": "code",
   "execution_count": 23,
   "metadata": {},
   "outputs": [],
   "source": [
    "df_plot = pd.DataFrame()\n",
    "for i,beh in enumerate(['APM','NART','Lang','Fluency','Neglect']):\n",
    "    df = pd.DataFrame()\n",
    "    df['rho'] = rs_avg_vox[:,i]\n",
    "    df['MAE'] = MAE_avg_vox[:,i]\n",
    "    df['R2'] = Rsqr_avg_vox[:,i]\n",
    "    df[]\n",
    "    df['Model'] = 'voxel'\n",
    "    df['Behaviour'] = beh\n",
    "    df_plot = pd.concat([df_plot,df])\n",
    "    \n",
    "    df = pd.DataFrame()\n",
    "    df['rho'] = rs_avg[:,i]\n",
    "    df['MAE'] = MAE_avg[:,i]\n",
    "    df['R2'] = Rsqr_avg[:,i]\n",
    "    \n",
    "    df['Model'] = 'connectivity'\n",
    "    df['Behaviour'] = beh\n",
    "    df_plot = pd.concat([df_plot,df])\n",
    "df_plot.to_csv('prediction_results.csv')    "
   ]
  },
  {
   "cell_type": "code",
   "execution_count": 27,
   "metadata": {},
   "outputs": [
    {
     "data": {
      "image/png": "[encoded data removed]",
      "text/plain": [
       "<Figure size 1080x288 with 3 Axes>"
      ]
     },
     "metadata": {},
     "output_type": "display_data"
    }
   ],
   "source": [
    "plt.figure(figsize=(15,4))\n",
    "sns.set(style='ticks')\n",
    "plt.subplot(1,3,1)\n",
    "sns.boxplot(x='Behaviour',y='rho',hue='Model',data=df_plot,fliersize=0)\n",
    "sns.despine()\n",
    "\n",
    "plt.subplot(1,3,2)\n",
    "sns.boxplot(x='Behaviour',y='MAE',hue='Model',data=df_plot,fliersize=0)\n",
    "sns.despine()\n",
    "\n",
    "plt.subplot(1,3,3)\n",
    "sns.boxplot(x='Behaviour',y='R2',hue='Model',data=df_plot,fliersize=0)\n",
    "sns.despine()\n",
    "plt.show()"
   ]
  },
  {
   "cell_type": "code",
   "execution_count": 29,
   "metadata": {},
   "outputs": [],
   "source": [
    "import pingouin as pg"
   ]
  },
  {
   "cell_type": "code",
   "execution_count": 48,
   "metadata": {},
   "outputs": [],
   "source": [
    "t = []\n",
    "p = []\n",
    "for meas in ['rho','MAE','R2']:\n",
    "    for beh in ['APM','NART','Lang','Fluency','Neglect']:\n",
    "        df = df_plot.loc[df_plot.Behaviour==beh]\n",
    "        x = df[meas].values[df['Model']=='connectivity']\n",
    "        y = df[meas].values[df['Model']=='voxel']\n",
    "        res = pg.ttest(x,y)\n",
    "        t.append(res['T'].values)\n",
    "        p.append(res['p-val'].values)"
   ]
  },
  {
   "cell_type": "code",
   "execution_count": null,
   "metadata": {},
   "outputs": [],
   "source": []
  }
 ],
 "metadata": {
  "kernelspec": {
   "display_name": "Python 3",
   "language": "python",
   "name": "python3"
  },
  "language_info": {
   "codemirror_mode": {
    "name": "ipython",
    "version": 3
   },
   "file_extension": ".py",
   "mimetype": "text/x-python",
   "name": "python",
   "nbconvert_exporter": "python",
   "pygments_lexer": "ipython3",
   "version": "3.7.1"
  }
 },
 "nbformat": 4,
 "nbformat_minor": 4
}
