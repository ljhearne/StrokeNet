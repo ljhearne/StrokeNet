{
 "cells": [
  {
   "cell_type": "code",
   "execution_count": 4,
   "metadata": {},
   "outputs": [],
   "source": [
    "import nibabel as nib\n",
    "import numpy as np\n",
    "import scipy.io\n",
    "import h5py\n",
    "import glob\n",
    "\n",
    "#choose the parc\n",
    "parc = 'Sch214'\n",
    "# and number of nodes to extract\n",
    "n_nodes = 5\n",
    "# and the mode\n",
    "mode = 0"
   ]
  },
  {
   "cell_type": "code",
   "execution_count": 5,
   "metadata": {},
   "outputs": [
    {
     "name": "stdout",
     "output_type": "stream",
     "text": [
      "rois include: [ 23 203  64  27  42 141 169 168 130 120]\n"
     ]
    }
   ],
   "source": [
    "# get rois of interest\n",
    "docs_path = '/Users/luke/Documents/Projects/StrokeNet/Docs/'\n",
    "conbound = 'conbound20/'\n",
    "results_dir = docs_path + 'Results/' + conbound + parc + '/'\n",
    "data = scipy.io.loadmat(results_dir + 'results.mat')\n",
    "nodes = data['CCA'][0][0][14]\n",
    "roi_list = np.ravel(np.vstack((nodes[0:n_nodes,0,mode],nodes[0:n_nodes,1,mode])))\n",
    "print('rois include: '+str(roi_list))"
   ]
  },
  {
   "cell_type": "code",
   "execution_count": null,
   "metadata": {},
   "outputs": [],
   "source": [
    "#load the roi-parcellation\n",
    "if parc=='Sch214':\n",
    "    parcellation_file = '/Users/luke/Documents/Projects/StrokeNet/Docs/Atlas/Schaefer200/Schaefer200_plus_HO.nii'\n",
    "elif parc=='BN':\n",
    "    parcellation_file = '/Users/luke/Documents/Projects/StrokeNet/Docs/Atlas/BNAtlas/BN_Atlas_246_2mm.nii'\n",
    "img_parc = nib.load(parcellation_file).get_data()\n",
    "\n",
    "#load the nki-space template (44k)\n",
    "nki_definitions_file = '/Users/luke/Documents/Projects/StrokeNet/Docs/Atlas/node_definitions91.nii'\n",
    "img = nib.load(nki_definitions_file)\n",
    "img_nki = img.get_data()\n",
    "\n",
    "# save the nki as a binary mask\n",
    "out_img = img_nki.copy()\n",
    "out_img[out_img>0]=1\n",
    "out_img = nib.Nifti1Image(out_img,img.affine)\n",
    "out_name = 'nki_mask.nii'\n",
    "nib.save(out_img,out_name)"
   ]
  },
  {
   "cell_type": "code",
   "execution_count": null,
   "metadata": {},
   "outputs": [],
   "source": [
    "func_data_path = '/Users/luke/Documents/Projects/StrokeNet/Data/NKI_func/'\n",
    "files = glob.glob(func_data_path+'*.mat')\n",
    "n_sample = len(files)\n",
    "\n",
    "for roi in roi_list:\n",
    "    print('roi =',roi)\n",
    "    corr_values = np.zeros((np.int(np.max(img_nki)),n_sample))\n",
    "    for sub,file in enumerate(files):\n",
    "        if sub==50:\n",
    "            print('\\tsub =',sub)\n",
    "        elif sub==100:\n",
    "            print('\\tsub =',sub)\n",
    "        elif sub==150:\n",
    "            print('\\tsub =',sub)\n",
    "\n",
    "        f = h5py.File(file, 'r')\n",
    "        nki_timeseries_data = f['func_TC'][:].copy()\n",
    "        f.close()\n",
    "        #print('\\t\\tfinished loading timeseries data')\n",
    "\n",
    "        #roi in parcellation space\n",
    "        roi_parc = img_parc==roi\n",
    "\n",
    "        #find 44k matches\n",
    "        roi_nki = np.unique(img_nki[roi_parc])\n",
    "        roi_nki = roi_nki-1 #account for 0-index in python\n",
    "\n",
    "        # time series\n",
    "        roi_parc_timeseries = np.mean(nki_timeseries_data[roi_nki.astype(int),:],axis=0)\n",
    "\n",
    "        #correlate roi timeseries with whole brain\n",
    "        for i in range(len(nki_timeseries_data)):\n",
    "            try:\n",
    "                _c = np.corrcoef(roi_parc_timeseries,nki_timeseries_data[i,:])\n",
    "                corr_values[i,sub] = _c[0,1]\n",
    "            except:\n",
    "                corr_values[i,sub] =  np.nan\n",
    "    print('\\tfinished correlation for roi')\n",
    "    \n",
    "    # transform into nifti space (outside of subject loop).\n",
    "    mean_corr_values = np.arctanh(np.mean(corr_values,axis=1))\n",
    "    corr_3d = np.zeros((np.shape(img_nki)))\n",
    "    for i in range(len(nki_timeseries_data)):\n",
    "        idx = img_nki==i\n",
    "        corr_3d[idx] = mean_corr_values[i]\n",
    "    print('\\tfinished transforming corr data')\n",
    "    \n",
    "    # save output\n",
    "    out_img = nib.Nifti1Image(corr_3d,img.affine)\n",
    "    out_name = parc+'/roi_' + str(roi) + '_groupFC.nii'\n",
    "    nib.save(out_img,out_name)\n",
    "    print('\\tfinished saving output for roi')"
   ]
  }
 ],
 "metadata": {
  "kernelspec": {
   "display_name": "Python 3",
   "language": "python",
   "name": "python3"
  },
  "language_info": {
   "codemirror_mode": {
    "name": "ipython",
    "version": 3
   },
   "file_extension": ".py",
   "mimetype": "text/x-python",
   "name": "python",
   "nbconvert_exporter": "python",
   "pygments_lexer": "ipython3",
   "version": "3.7.1"
  },
  "toc": {
   "base_numbering": 1,
   "nav_menu": {},
   "number_sections": true,
   "sideBar": true,
   "skip_h1_title": false,
   "title_cell": "Table of Contents",
   "title_sidebar": "Contents",
   "toc_cell": false,
   "toc_position": {},
   "toc_section_display": true,
   "toc_window_display": false
  },
  "varInspector": {
   "cols": {
    "lenName": 16,
    "lenType": 16,
    "lenVar": 40
   },
   "kernels_config": {
    "python": {
     "delete_cmd_postfix": "",
     "delete_cmd_prefix": "del ",
     "library": "var_list.py",
     "varRefreshCmd": "print(var_dic_list())"
    },
    "r": {
     "delete_cmd_postfix": ") ",
     "delete_cmd_prefix": "rm(",
     "library": "var_list.r",
     "varRefreshCmd": "cat(var_dic_list()) "
    }
   },
   "types_to_exclude": [
    "module",
    "function",
    "builtin_function_or_method",
    "instance",
    "_Feature"
   ],
   "window_display": false
  }
 },
 "nbformat": 4,
 "nbformat_minor": 2
}
